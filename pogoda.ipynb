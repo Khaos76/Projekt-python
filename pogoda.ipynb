{
 "cells": [
  {
   "cell_type": "code",
   "execution_count": 1,
   "metadata": {
    "collapsed": false
   },
   "outputs": [
    {
     "name": "stdout",
     "output_type": "stream",
     "text": [
      "{'coord': {'lat': 34.97, 'lon': 138.93}, 'main': {'temp_max': 12, 'temp_min': 8, 'temp': 9.93, 'pressure': 1012, 'humidity': 87}, 'dt': 1450915200, 'name': 'Shuzenji', 'weather': [{'icon': '50d', 'main': 'Mist', 'description': 'mist', 'id': 701}], 'base': 'cmc stations', 'sys': {'country': 'JP', 'message': 0.009, 'sunrise': 1450907360, 'id': 7616, 'type': 3, 'sunset': 1450942663}, 'id': 1851632, 'cod': 200, 'rain': {'3h': 0.5775}, 'clouds': {'all': 75}, 'wind': {'deg': 30, 'speed': 7.2}}\n",
      "{'temp_max': 12, 'temp_min': 8, 'temp': 9.93, 'pressure': 1012, 'humidity': 87}\n",
      "temperatura = 9.93℃\n"
     ]
    }
   ],
   "source": [
    "import json\n",
    "import requests\n",
    "import urllib\n",
    "\n",
    "url = \"http://api.openweathermap.org/data/2.5/weather?lat=35&lon=139&units=metric&appid=2de143494c0b295cca9337e1e96b00e0\"\n",
    "response = urllib.request.urlopen(url)\n",
    "parsed_json = json.loads(response.read().decode(response.info().get_param('charset') or 'utf-8'))\n",
    "print(parsed_json)\n",
    "kolekcja = (parsed_json['main'])\n",
    "print (kolekcja)\n",
    "print (\"temperatura = %s\\u2103\" % kolekcja['temp'])  # stopień \\xb0, stopień celcjusza \\u2103\n",
    "\n"
   ]
  },
  {
   "cell_type": "code",
   "execution_count": null,
   "metadata": {
    "collapsed": true
   },
   "outputs": [],
   "source": []
  }
 ],
 "metadata": {
  "kernelspec": {
   "display_name": "Python 3",
   "language": "python",
   "name": "python3"
  },
  "language_info": {
   "codemirror_mode": {
    "name": "ipython",
    "version": 3
   },
   "file_extension": ".py",
   "mimetype": "text/x-python",
   "name": "python",
   "nbconvert_exporter": "python",
   "pygments_lexer": "ipython3",
   "version": "3.5.1"
  }
 },
 "nbformat": 4,
 "nbformat_minor": 0
}
